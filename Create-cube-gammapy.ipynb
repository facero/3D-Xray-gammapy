{
 "cells": [
  {
   "cell_type": "markdown",
   "metadata": {
    "heading_collapsed": false,
    "level": 2
   },
   "source": [
    "## Creating energy data cubes from X-ray data using gammapy\n",
    "### F. Acero, May 2022\n",
    "\n"
   ]
  },
  {
   "cell_type": "code",
   "execution_count": 2,
   "metadata": {
    "level": 7
   },
   "outputs": [],
   "source": [
    "%matplotlib inline\n",
    "\n",
    "#import warnings\n",
    "#warnings.filterwarnings('ignore')\n",
    "\n",
    "import numpy as np\n",
    "import glob\n",
    "import matplotlib.pyplot as plt\n",
    "from ipywidgets import interact, fixed\n",
    "\n",
    "from astropy.io import fits\n",
    "from astropy.visualization import simple_norm\n",
    "from astropy import table, wcs\n",
    "from astropy.convolution import convolve,convolve_fft, Gaussian2DKernel\n",
    "from astropy.coordinates import SkyCoord\n",
    "from astropy import units as u\n",
    "\n",
    "\n",
    "from gammapy.irf import EDispKernel, EDispKernelMap\n",
    "from gammapy.maps import WcsGeom, WcsNDMap, MapAxis\n",
    "#from gammapy.data import EventList\n",
    "\n",
    "\n",
    "#import sys\n",
    "#sys.path.insert(0,'/Users/facero/Dropbox/Work/Adrien-Fabio')\n",
    "#sys.path.insert(0,'.')\n",
    "#from GMCA_Tools_master import get_rmf_Ebins, compress\n",
    "\n",
    "plt.rcParams['image.origin'] = 'lower'\n",
    "plt.rcParams['image.interpolation'] = 'nearest'\n",
    "\n",
    "    \n",
    "\n",
    "def getevt(mydir,obs,evtfile='*evt2.*',inst='ACIS'):\n",
    "    \"\"\"\n",
    "    Read an event file in a given directory using a evtfile filename pattern.\n",
    "    Based on a skycoordinate column name (like X,Y) transform this in a RA, DEC array.\n",
    "    The header from the event file is used for this transformation by building\n",
    "    a WCS header using the hdrfromevt() function.\n",
    "    Input:\n",
    "     mydir,obs: observation paths\n",
    "     evtfile: evtfile regexp pattern\n",
    "     inst: instrument name ('MOS','PN','ACIS','HRC','eROSITA')\n",
    "    Returns:\n",
    "     RA, DEC, E, TOA : numpy arrays\n",
    "    \"\"\"\n",
    "\n",
    "    if inst in ['ACIS','HRC']:\n",
    "        regexp='%s/%s/*/%s'%(mydir,obs,evtfile)\n",
    "    if inst in ['eROSITA']:\n",
    "        regexp='%s/%s/%s'%(mydir,obs,evtfile)\n",
    "    if inst in ['MOS','PN']:\n",
    "        regexp='%s/%s/pps_old/%s'%(mydir,obs,evtfile)\n",
    "    \n",
    "    print('Search expression: \\n ',regexp)\n",
    "    for myfile in glob.glob(regexp):\n",
    "        evtfile=myfile\n",
    "    \n",
    "    print('Reading file :',evtfile)\n",
    "    hdr = fits.getheader(evtfile, extname='EVENTS')\n",
    "    hdus = fits.open(evtfile)\n",
    "    evt = hdus[1].data \n",
    "    print(evt.shape)\n",
    "    \n",
    "\n",
    "    try:\n",
    "        TOA = evt['TIME']\n",
    "    except:\n",
    "        print('Time column not found. Returnin empty array')\n",
    "        TOA = np.zeros_like(Xevt)\n",
    "    \n",
    "    #Getting keywords for column x (col11)and column y (col12)\n",
    "    \n",
    "#    if inst == 'ACIS': hdr2 = hdrfromevt(hdr,'x', 'y',11,12)\n",
    "#    if inst == 'HRC': hdr2 = hdrfromevt(hdr,'x', 'y',10,11)\n",
    "#    if inst == 'MOS': hdr2 = hdrfromevt(hdr,'x', 'y',6,7)\n",
    "#    if inst == 'PN': hdr2 = hdrfromevt(hdr,'x', 'y',6,7)\n",
    "\n",
    "    if inst in ['MOS','PN','ACIS']:\n",
    "        \n",
    "        Xevt = evt['X']\n",
    "        Yevt = evt['Y']\n",
    "        hdr2 = hdrfromevt(hdr,'x', 'y')\n",
    "        print('Skyprojection to RA, DEC')    \n",
    "        w = wcs.WCS(hdr2)\n",
    "        RA, DEC = w.wcs_pix2world(Xevt, Yevt, 1)\n",
    "\n",
    "    elif inst == 'eROSITA':\n",
    "        RA, DEC = evt['RA'], evt['DEC']\n",
    "        \n",
    "    if inst in ['MOS','PN','ACIS','eROSITA']:\n",
    "#        grade_=evt['grade']\n",
    "        if inst in ['MOS', 'PN', 'eROSITA']:\n",
    "            E = evt['PI']\n",
    "        elif inst == 'ACIS':\n",
    "            E = evt['energy']\n",
    "\n",
    "        print('%s events loaded '%(len(RA)) )\n",
    "        return RA, DEC, E, TOA, hdr\n",
    "    else:\n",
    "        print('%s events loaded '%(len(RA)) )\n",
    "        return RA, DEC, TOA, hdr        \n",
    "\n",
    "    \n",
    "def hdrfromevt(hdr,col1,col2):\n",
    "    \"\"\"\n",
    "    Read an XMM event list and get the corresponding keywords\n",
    "    for column col1,col2 (e.g. X,Y)\n",
    "    then creates a standard header with CRVAL, CRPIX, etc\n",
    "    instead of TCRPX6, TCDLT6, etc\n",
    "    Search for values RA- in TCTYP* keywords in header:\n",
    "    Input:\n",
    "     hdr: the header from the event file\n",
    "     col1,col2: str, the name of the column containing the sky coordinates.\n",
    "    Return:\n",
    "     a standard WCS header\n",
    "    \"\"\"\n",
    "    #Get the number of the column containing the X, Y columns\n",
    "    colvals=hdr.values()\n",
    "    mystring='RA-'\n",
    "    for key, value in hdr.items():\n",
    "        if 'TCTYP' in key:\n",
    "            if 'RA--' in value:\n",
    "                print(key)\n",
    "                Xcolnum=int(key.split('TCTYP')[-1])\n",
    "    Ycolnum=Xcolnum + 1\n",
    "    # Create a new WCS object from the keywords corresponding to the column X,Y\n",
    "    Xcolnum=str(Xcolnum) ; Ycolnum=str(Ycolnum)\n",
    "\n",
    "    w = wcs.WCS(naxis=2)\n",
    "    w.wcs.crpix = [hdr['TCRPX'+Xcolnum], hdr['TCRPX'+Ycolnum]]\n",
    "    w.wcs.cdelt = [hdr['TCDLT'+Xcolnum], hdr['TCDLT'+Ycolnum]]\n",
    "    w.wcs.crval = [hdr['TCRVL'+Xcolnum], hdr['TCRVL'+Ycolnum]]\n",
    "    w.wcs.ctype = [hdr['TCTYP'+Xcolnum], hdr['TCTYP'+Ycolnum]]\n",
    "\n",
    "    # write the HDU object WITH THE HEADER\n",
    "    hdr2 = w.to_header()\n",
    "    return hdr2"
   ]
  },
  {
   "cell_type": "markdown",
   "metadata": {},
   "source": [
    "## Definition of observation list"
   ]
  },
  {
   "cell_type": "code",
   "execution_count": 3,
   "metadata": {},
   "outputs": [],
   "source": [
    "#DATA definition\n",
    "\n",
    "\n",
    "\n",
    "name='IGRJ1400'\n",
    "mydir='data/IGRJ1400/'\n",
    "inst='ACIS'\n",
    "obslist=['17905', '19919', '19920']\n",
    "center=SkyCoord(210.1894, -63.4289,unit=\"deg\",frame=\"fk5\" )\n",
    "width= 0.05*u.deg\n",
    "\n",
    "\n",
    "\n",
    "rootdir='/Users/facero/Documents/Work/AdvXrayTools/wavelet-denoise/'\n",
    "mydir=rootdir+mydir\n",
    "\n",
    "\n",
    "#Search pattern\n",
    "evtfile='acis*evt2.*'\n",
    "\n",
    "inst_dict={'MOS': {'pix_size':4.1*u.arcsec},\n",
    "           'PN': {'pix_size':4.1*u.arcsec},\n",
    "           'ACIS':{'pix_size':0.492*u.arcsec},\n",
    "           'HRC':{'pix_size':0.492*u.arcsec},\n",
    "           'XIFU':{'pix_size':4*u.arcsec},\n",
    "           'eROSITA':{'pix_size':4*u.arcsec}} # TBC\n",
    "\n",
    "myinst=inst_dict[inst]"
   ]
  },
  {
   "cell_type": "markdown",
   "metadata": {},
   "source": [
    "## Looping and stacking on the list of observations"
   ]
  },
  {
   "cell_type": "code",
   "execution_count": 3,
   "metadata": {
    "code_folding": [],
    "level": 7,
    "scrolled": true
   },
   "outputs": [
    {
     "name": "stdout",
     "output_type": "stream",
     "text": [
      "/Users/facero/Documents/Work/AdvXrayTools/wavelet-denoise/data/IGRJ1400/\n",
      "Search expression: \n",
      "  /Users/facero/Documents/Work/AdvXrayTools/wavelet-denoise/data/IGRJ1400//17905/*/acis*evt2.*\n",
      "Reading file : /Users/facero/Documents/Work/AdvXrayTools/wavelet-denoise/data/IGRJ1400//17905/primary/acisf17905N004_evt2.fits.gz\n",
      "(64183,)\n",
      "TCTYP11\n",
      "Skyprojection to RA, DEC\n",
      "64183 events loaded \n",
      "Livetime = 13.9 ks\n",
      "ON: 18858 events kept \n",
      "\n",
      "Search expression: \n",
      "  /Users/facero/Documents/Work/AdvXrayTools/wavelet-denoise/data/IGRJ1400//19919/*/acis*evt2.*\n",
      "Reading file : /Users/facero/Documents/Work/AdvXrayTools/wavelet-denoise/data/IGRJ1400//19919/primary/acisf19919N002_evt2.fits.gz\n",
      "(330164,)\n",
      "TCTYP11\n",
      "Skyprojection to RA, DEC\n",
      "330164 events loaded \n",
      "Livetime = 79.1 ks\n",
      "ON: 107563 events kept \n",
      "\n",
      "Search expression: \n",
      "  /Users/facero/Documents/Work/AdvXrayTools/wavelet-denoise/data/IGRJ1400//19920/*/acis*evt2.*\n",
      "Reading file : /Users/facero/Documents/Work/AdvXrayTools/wavelet-denoise/data/IGRJ1400//19920/primary/acisf19920N002_evt2.fits.gz\n",
      "(235088,)\n",
      "TCTYP11\n",
      "Skyprojection to RA, DEC\n",
      "235088 events loaded \n",
      "Livetime = 49.5 ks\n",
      "ON: 67532 events kept \n",
      "\n",
      "Total Exposure time 142 ks\n",
      "Total events kept 1.939530e+05 \n",
      "\n",
      "Done\n",
      "(193953,)\n"
     ]
    }
   ],
   "source": [
    "#%%time\n",
    "\n",
    "RA=np.array([])\n",
    "DEC=np.array([])\n",
    "E=np.array([])\n",
    "TOA=np.array([])\n",
    "\n",
    "mytype='float32'\n",
    "\n",
    "exptime=0\n",
    "Tstart=0\n",
    "\n",
    "print(mydir)\n",
    "\n",
    "for obs in obslist:\n",
    "    \n",
    "    try :\n",
    "        if inst in ['ACIS','MOS','PN','eROSITA']: RA_, DEC_, E_, TOA_, hdr = getevt(mydir,obs,evtfile=evtfile,inst=inst)\n",
    "        if inst == 'HRC': RA_, DEC_, TOA_, hdr = getevt(mydir,obs,inst=inst)\n",
    "    except:\n",
    "        print(f'Observation {obs} not found')\n",
    "    try:\n",
    "        print('Livetime = %.1f ks' %(hdr['LIVETIME']/1e3) )\n",
    "        exptime+=hdr['LIVETIME']/1e3\n",
    "    except:\n",
    "        exptime=0\n",
    "        \n",
    "    if inst in ['ACIS','MOS','PN','eROSITA']:\n",
    "        pos_=SkyCoord(RA_,DEC_,frame='fk5',unit=\"deg\")\n",
    "\n",
    "        sep=center.separation(pos_)\n",
    "        mask = sep < np.sqrt(2)*width/2 # outerer circle touching the box\n",
    "        RAc, DECc, Ec, TOAc = RA_[np.nonzero(mask)], DEC_[np.nonzero(mask)], E_[np.nonzero(mask)], TOA_[np.nonzero(mask)]\n",
    "\n",
    "    else:\n",
    "        print('Instrument not in the list')\n",
    "\n",
    "    print('ON: %s events kept \\n'%(len(RAc)))\n",
    "    RA=np.append(RA,RAc).astype(mytype)\n",
    "    DEC=np.append(DEC,DECc).astype(mytype)\n",
    "    E=np.append(E,Ec).astype(mytype)\n",
    "    \n",
    "        \n",
    "print('Total Exposure time %1.f ks'%(exptime) )\n",
    "print('Total events kept %e \\n'%(len(RA)))\n",
    "\n",
    "print('Done')\n",
    "RA_=None ;RAc=None ; DEC_=None ;DECc=None ; E_=None ; Ec=None ; TOA_=None ; TOAc=None ; mask=None #freeing memory\n",
    "\n",
    "\n",
    "print(RA.shape)\n",
    "radec=SkyCoord(RA,DEC,frame='fk5',unit=\"deg\")\n",
    "energy=E*u.eV\n",
    "TOA = TOA*u.s\n"
   ]
  },
  {
   "cell_type": "markdown",
   "metadata": {},
   "source": [
    "## Making a 3D histogram using gammapy WcsNDMap "
   ]
  },
  {
   "cell_type": "code",
   "execution_count": 4,
   "metadata": {},
   "outputs": [
    {
     "name": "stdout",
     "output_type": "stream",
     "text": [
      "Filling cube with 1.9e+05 events\n",
      "WcsNDMap\n",
      "\n",
      "\tgeom  : WcsGeom \n",
      " \taxes  : ['lon', 'lat', 'energy']\n",
      "\tshape : (46, 46, 512)\n",
      "\tndim  : 3\n",
      "\tunit  : \n",
      "\tdtype : float32\n",
      "\n",
      "CPU times: user 499 ms, sys: 109 ms, total: 609 ms\n",
      "Wall time: 675 ms\n"
     ]
    }
   ],
   "source": [
    "%%time \n",
    "\n",
    "XYrebin = 8  # rebin of instrument native pixel size\n",
    "Erebin = 2\n",
    "\n",
    "#Rebinning the native (rebin 1) rmf_file generated by mkacisrmf\n",
    "rmf_file='/Users/facero/Documents/Work/AdvXrayTools/gammapy-3D-Xray/IGRJ1400/data/SNR-circle-ERrebin1-ET10eV.rmf'\n",
    "rmf=EDispKernel.read(rmf_file)\n",
    "edisp=EDispKernelMap.from_edisp_kernel(rmf, geom=None)\n",
    "edisp = edisp.resample_energy_axis(rmf.axes[\"energy\"].downsample(Erebin))\n",
    "E_edges=edisp.edisp_map.geom.axes['energy'].edges\n",
    "\n",
    "\n",
    "\n",
    "def create_cube(E_edges,XYrebin):\n",
    "    energy_axis = MapAxis.from_energy_edges(E_edges,name='energy') # energy axis stopping at 11 keV\n",
    "\n",
    "    E_center=energy_axis.center\n",
    "\n",
    "    Zaxis=energy_axis\n",
    "    #Zaxis=time_axis\n",
    "\n",
    "    binsz=XYrebin*myinst['pix_size'].to(\"deg\")\n",
    "    #binsz=(0.68*u.arcsec).to(\"deg\")\n",
    "    \n",
    "    m = WcsNDMap.create(binsz=binsz, width=width.to(\"deg\"), skydir=center,\n",
    "                        frame='icrs', axes=[Zaxis], proj='CAR',meta={'EXPOSURE':exptime*1e3})\n",
    "\n",
    "    print(f\"Filling cube with {len(energy):.1e} events\")\n",
    "\n",
    "    m.fill_by_coord({'skycoord': radec, 'energy': energy})\n",
    "    #m.fill_by_coord({'skycoord': radec, 'time': TOA})\n",
    "\n",
    "    return m\n",
    "\n",
    "m=create_cube(E_edges,XYrebin)\n",
    "print(m)\n",
    "\n"
   ]
  },
  {
   "cell_type": "code",
   "execution_count": 5,
   "metadata": {},
   "outputs": [
    {
     "data": {
      "application/vnd.jupyter.widget-view+json": {
       "model_id": "8d8b8cf0074344b9bd0779ee0b8a9dd3",
       "version_major": 2,
       "version_minor": 0
      },
      "text/plain": [
       "interactive(children=(SelectionSlider(continuous_update=False, description='Select energy:', layout=Layout(wid…"
      ]
     },
     "metadata": {},
     "output_type": "display_data"
    }
   ],
   "source": [
    "m.smooth(1).plot_interactive(add_cbar=True,cmap='CMRmap_r')\n",
    "#m.plot_interactive(add_cbar=True,cmap='CMRmap_r')"
   ]
  },
  {
   "cell_type": "code",
   "execution_count": 6,
   "metadata": {},
   "outputs": [
    {
     "data": {
      "text/plain": [
       "<WCSAxesSubplot:xlabel='Right Ascension', ylabel='Declination'>"
      ]
     },
     "execution_count": 6,
     "metadata": {},
     "output_type": "execute_result"
    },
    {
     "data": {
      "image/png": "[encoded data removed]",
      "text/plain": [
       "<Figure size 432x288 with 1 Axes>"
      ]
     },
     "metadata": {
      "needs_background": "light"
     },
     "output_type": "display_data"
    }
   ],
   "source": [
    "m.sum_over_axes().smooth(1).plot(stretch='log',cmap='CMRmap_r')"
   ]
  },
  {
   "cell_type": "code",
   "execution_count": 7,
   "metadata": {},
   "outputs": [
    {
     "data": {
      "text/plain": [
       "(0.3, 10)"
      ]
     },
     "execution_count": 7,
     "metadata": {},
     "output_type": "execute_result"
    },
    {
     "data": {
      "image/png": "[encoded data removed]",
      "text/plain": [
       "<Figure size 432x288 with 1 Axes>"
      ]
     },
     "metadata": {
      "needs_background": "light"
     },
     "output_type": "display_data"
    }
   ],
   "source": [
    "E_cen = m.geom.axes[0].center\n",
    "plt.loglog(E_cen, m.data.sum(axis=(1,2)) )\n",
    "plt.xlim(0.3,10)"
   ]
  },
  {
   "cell_type": "code",
   "execution_count": 8,
   "metadata": {},
   "outputs": [],
   "source": [
    "#outfile='../obs_data/Cube_%s_%spix_XYrebin%s_47blocks.fits'%(name,m.data.shape[2],XYrebin)\n",
    "outfile='../obs_data/Cube_%s_%spix_XYrebin%s_Erebin%s.fits'%(name,m.data.shape[2],XYrebin,Erebin)\n",
    "\n",
    "#m.write(outfile,overwrite=True)\n",
    "#compress(outfile)\n"
   ]
  },
  {
   "cell_type": "code",
   "execution_count": null,
   "metadata": {},
   "outputs": [],
   "source": []
  }
 ],
 "metadata": {
  "anaconda-cloud": {},
  "kernelspec": {
   "display_name": "Python 3 (ipykernel)",
   "language": "python",
   "name": "python3"
  },
  "language_info": {
   "codemirror_mode": {
    "name": "ipython",
    "version": 3
   },
   "file_extension": ".py",
   "mimetype": "text/x-python",
   "name": "python",
   "nbconvert_exporter": "python",
   "pygments_lexer": "ipython3",
   "version": "3.8.13"
  },
  "varInspector": {
   "cols": {
    "lenName": 16,
    "lenType": 16,
    "lenVar": 40
   },
   "kernels_config": {
    "python": {
     "delete_cmd_postfix": "",
     "delete_cmd_prefix": "del ",
     "library": "var_list.py",
     "varRefreshCmd": "print(var_dic_list())"
    },
    "r": {
     "delete_cmd_postfix": ") ",
     "delete_cmd_prefix": "rm(",
     "library": "var_list.r",
     "varRefreshCmd": "cat(var_dic_list()) "
    }
   },
   "types_to_exclude": [
    "module",
    "function",
    "builtin_function_or_method",
    "instance",
    "_Feature"
   ],
   "window_display": false
  },
  "widgets": {
   "state": {
    "19b1556034784c2aa2969c92d02b5727": {
     "views": [
      {
       "cell_index": 8
      }
     ]
    }
   },
   "version": "1.2.0"
  }
 },
 "nbformat": 4,
 "nbformat_minor": 1
}
